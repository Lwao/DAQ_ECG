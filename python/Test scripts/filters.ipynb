{
 "cells": [
  {
   "cell_type": "code",
   "execution_count": 1,
   "metadata": {},
   "outputs": [],
   "source": [
    "import numpy as np"
   ]
  },
  {
   "cell_type": "code",
   "execution_count": 2,
   "metadata": {},
   "outputs": [
    {
     "name": "stdout",
     "output_type": "stream",
     "text": [
      "13262.911924324611 [] 195.83333333333263\n"
     ]
    }
   ],
   "source": [
    "# Active Notch filter\n",
    "fc = 60\n",
    "C = 100e-9\n",
    "BW = 1\n",
    "R2 = 47e3\n",
    "\n",
    "R = 1/(4*np.pi*C*fc)\n",
    "Q = fc/BW\n",
    "k = 1-1/(4*Q)\n",
    "R1 = R2*(1-k)\n",
    "\n",
    "print(R, [], R1)"
   ]
  },
  {
   "cell_type": "code",
   "execution_count": 3,
   "metadata": {},
   "outputs": [
    {
     "name": "stdout",
     "output_type": "stream",
     "text": [
      "35588.127170858854 [] 71176.25434171772\n"
     ]
    }
   ],
   "source": [
    "# Multiple feedback band-pass active filter\n",
    "fL = 0.05\n",
    "fH = 200\n",
    "Av = 1\n",
    "C = 1e-6\n",
    "\n",
    "fR = np.sqrt(fL*fH)\n",
    "Q = np.sqrt(Av/2)\n",
    "divR2R1 = (2*Q)**2 # R2 = divR2R1 * R1\n",
    "prodR2R1 = (1/(2*np.pi*C*fR))**2\n",
    "R1 = np.sqrt(prodR2R1/divR2R1)\n",
    "R2 = divR2R1 * R1\n",
    "print(R1, [], R2)"
   ]
  },
  {
   "cell_type": "code",
   "execution_count": 2,
   "metadata": {},
   "outputs": [
    {
     "name": "stdout",
     "output_type": "stream",
     "text": [
      "500000.0 [] 0.6366197723675814 [] 1.5915494309189535\n"
     ]
    }
   ],
   "source": [
    "# Inverting active band-pass filter\n",
    "fL = 0.5\n",
    "fH = 200\n",
    "Av = 1\n",
    "R1 = 500e3\n",
    "\n",
    "R2 = Av*R1 \n",
    "C1 = 1/(2*np.pi*R1*fL) * 1e6\n",
    "C2 = 1/(2*np.pi*R2*fH) * 1e9\n",
    "\n",
    "print(R2, [], C1, [], C2)"
   ]
  }
 ],
 "metadata": {
  "interpreter": {
   "hash": "1e87f45ea6456f954092e3c66abf7b40f0e1d2f9e9713a423f4cac954e0c2624"
  },
  "kernelspec": {
   "display_name": "Python 3.8.10 64-bit (conda)",
   "name": "python3"
  },
  "language_info": {
   "codemirror_mode": {
    "name": "ipython",
    "version": 3
   },
   "file_extension": ".py",
   "mimetype": "text/x-python",
   "name": "python",
   "nbconvert_exporter": "python",
   "pygments_lexer": "ipython3",
   "version": "3.8.10"
  },
  "orig_nbformat": 4
 },
 "nbformat": 4,
 "nbformat_minor": 2
}
